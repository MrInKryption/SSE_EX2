{
 "cells": [
  {
   "cell_type": "markdown",
   "metadata": {},
   "source": [
    "# Import python libraries"
   ]
  },
  {
   "cell_type": "code",
   "execution_count": null,
   "metadata": {},
   "outputs": [],
   "source": [
    "import numpy as np\n",
    "import pandas as pd\n",
    "import os\n",
    "from datetime import datetime\n",
    "# Specify git executable file for GitPython in Jupyter Notebook (In IDE, it can still work without this line.)\n",
    "os.environ[\"GIT_PYTHON_GIT_EXECUTABLE\"] = \"C:\\Program Files\\Git\\cmd\\git.exe\"\n",
    "\n",
    "import git\n",
    "from git import RemoteProgress\n",
    "\n",
    "from git import Repo\n",
    "import matplotlib.pyplot as plt\n",
    "import seaborn as sns\n",
    "%matplotlib inline"
   ]
  },
  {
   "cell_type": "markdown",
   "metadata": {},
   "source": [
    "# Clone the repo from Github"
   ]
  },
  {
   "cell_type": "code",
   "execution_count": null,
   "metadata": {},
   "outputs": [],
   "source": [
    "#First set links local and remote. Remote in cloning needs to be done\n",
    "#local if the repo is already cloned.\n",
    "spark_link=\"https://github.com/apache/spark\"\n",
    "spark_local=\"C:\\\\Users\\\\Ray\\\\Desktop\\\\SSE-Repos\\\\spark\"\n",
    "\n",
    "lucune_link=\"https://github.com/apache/lucene-solr\"\n",
    "lucene_local=\"C:\\\\Users\\\\Ray\\\\Desktop\\\\SSE-Repos\\\\lucene-solr\"\n",
    "\n",
    "activemq_link=\"https://github.com/apache/activemq\"\n",
    "activemq_local=\"C:\\\\Users\\\\Ray\\\\Desktop\\\\SSE-Repos\\\\activemq\""
   ]
  },
  {
   "cell_type": "code",
   "execution_count": null,
   "metadata": {},
   "outputs": [],
   "source": [
    "#Repo, fixing commit and affected files of spark\n",
    "repo_spark=Repo(spark_local)\n",
    "spark_fixing=\"f7cbf90a72a19476ea2d3d1ddc96c45a24b9f57\"\n",
    "spark_affected=\"launcher\\\\src\\\\test\\\\java\\\\org\\\\apache\\\\spark\\\\launcher\\\\LauncherServerSuite.java\"\n",
    "spark_affected2=\"launcher/src/main/java/org/apache/spark/launcher/LauncherConnection.java\"\n",
    "spark_affected3=\"launcher/src/main/java/org/apache/spark/launcher/FilteredObjectInputStream.java\"\n",
    "\n",
    "#Repo, fixing commit and affected files of lucene-solr\n",
    "repo_lucene=Repo(lucene_local)\n",
    "lucene_fixing=\"3a4f885b18bc963a8326c752bd229497908f1db\"\n",
    "lucene_affected=\"solr\\\\core\\\\src\\\\java\\\\org\\\\apache\\\\solr\\\\handler\\\\ReplicationHandler.java\"\n",
    "lucene_affected2=\"solr\\\\core/src\\\\test\\\\org\\\\apache\\\\solr\\\\handler\\\\TestReplicationHandler.java\"\n",
    "lucene_affected3= \"solr\\\\CHANGES.txt\"\n",
    "#Repo, fixing commit and affected files of activemq\n",
    "repo_activemq=Repo(activemq_local)\n",
    "activemq_fixing=\"3dd86d04e8b90ba309819317d19e7260d414d9e7\"\n",
    "activemq_affected=\"pom.xml\"\n",
    "activemq_affected2=\"activemq-fileserver\\\\src/main\\\\java/org\\\\apache\\\\activemq\\\\util\\\\FilenameGuardFilter.java\"\n",
    "activemq_affected3=\"activemq-fileserver\\\\src\\\\main\\\\webapp\\\\index.html\""
   ]
  },
  {
   "cell_type": "markdown",
   "metadata": {},
   "source": [
    "### Display Title and commit message of spark"
   ]
  },
  {
   "cell_type": "code",
   "execution_count": null,
   "metadata": {},
   "outputs": [],
   "source": [
    "show_data= repo_spark.git.show(\"--pretty=full\", \"-s\", spark_fixing).splitlines()\n",
    "for line in show_data:\n",
    "    print(line)"
   ]
  },
  {
   "cell_type": "markdown",
   "metadata": {},
   "source": [
    "### Print title and commit message of lucene-solr "
   ]
  },
  {
   "cell_type": "code",
   "execution_count": null,
   "metadata": {},
   "outputs": [],
   "source": [
    "show_data= repo_lucene.git.show(\"--pretty=full\", \"-s\", lucene_fixing).splitlines()\n",
    "for line in show_data:\n",
    "    print(line)"
   ]
  },
  {
   "cell_type": "markdown",
   "metadata": {},
   "source": [
    "### Print title and commit message of activemq"
   ]
  },
  {
   "cell_type": "code",
   "execution_count": null,
   "metadata": {},
   "outputs": [],
   "source": [
    "show_data= repo_activemq.git.show(\"--pretty=full\", \"-s\", activemq_fixing).splitlines()\n",
    "for line in show_data:\n",
    "    print(line)"
   ]
  },
  {
   "cell_type": "markdown",
   "metadata": {},
   "source": [
    "### Print the number of spark files that have been changed"
   ]
  },
  {
   "cell_type": "code",
   "execution_count": null,
   "metadata": {},
   "outputs": [],
   "source": [
    "spark_files=repo_spark.git.show(\"--stat\", spark_fixing).splitlines()\n",
    "for line in spark_files:\n",
    "    print(line)\n"
   ]
  },
  {
   "cell_type": "markdown",
   "metadata": {},
   "source": [
    "### Print the number of lucene-solr files that have been changed"
   ]
  },
  {
   "cell_type": "code",
   "execution_count": null,
   "metadata": {},
   "outputs": [],
   "source": [
    "lucene_files=repo_lucene.git.show(\"--stat\", lucene_fixing).splitlines()\n",
    "for line in lucene_files:\n",
    "    print(line)"
   ]
  },
  {
   "cell_type": "markdown",
   "metadata": {},
   "source": [
    "### Print the number of activemq files that have been changed"
   ]
  },
  {
   "cell_type": "code",
   "execution_count": null,
   "metadata": {},
   "outputs": [],
   "source": [
    "activemq_files=repo_activemq.git.show(\"--stat\", activemq_fixing).splitlines()\n",
    "for line in activemq_files:\n",
    "    print(line)"
   ]
  },
  {
   "cell_type": "code",
   "execution_count": null,
   "metadata": {},
   "outputs": [],
   "source": [
    "spark_files=repo_spark.git.show(\"--stat\",\"--ignore-blank-lines\",spark_fixing).splitlines()\n",
    "for line in spark_files:\n",
    "    print(line)"
   ]
  },
  {
   "cell_type": "code",
   "execution_count": null,
   "metadata": {},
   "outputs": [],
   "source": [
    "lucene_files=repo_lucene.git.show(\"--stat\",\"--ignore-blank-lines\", lucene_fixing).splitlines()\n",
    "for line in lucene_files:\n",
    "    print(line)"
   ]
  },
  {
   "cell_type": "code",
   "execution_count": null,
   "metadata": {},
   "outputs": [],
   "source": [
    "activemq_files=repo_activemq.git.show(\"--stat\",\"--ignore-blank-lines\", activemq_fixing).splitlines()\n",
    "for line in activemq_files:\n",
    "    print(line)"
   ]
  },
  {
   "cell_type": "markdown",
   "metadata": {},
   "source": [
    "### Print the number of spark directories that have been changed. "
   ]
  },
  {
   "cell_type": "code",
   "execution_count": null,
   "metadata": {},
   "outputs": [],
   "source": [
    "spark_dirs=repo_spark.git.show(\"--dirstat\", spark_fixing).splitlines()\n",
    "for line in spark_dirs:\n",
    "    print(line)"
   ]
  },
  {
   "cell_type": "markdown",
   "metadata": {},
   "source": [
    "### Print the changed lucene-slor directories"
   ]
  },
  {
   "cell_type": "code",
   "execution_count": null,
   "metadata": {},
   "outputs": [],
   "source": [
    "lucene_dirs=repo_lucene.git.show(\"--dirstat\", lucene_fixing).splitlines()\n",
    "for line in lucene_dirs:\n",
    "    print(line)"
   ]
  },
  {
   "cell_type": "markdown",
   "metadata": {},
   "source": [
    "### Print the changed lucene-slor directories"
   ]
  },
  {
   "cell_type": "code",
   "execution_count": null,
   "metadata": {},
   "outputs": [],
   "source": [
    "activemq_dirs=repo_activemq.git.show(\"--dirstat\", activemq_fixing).splitlines()\n",
    "for line in activemq_dirs:\n",
    "    print(line)"
   ]
  },
  {
   "cell_type": "markdown",
   "metadata": {},
   "source": [
    "### The command checks for file changes since the beggining of its inception and includes file name changes and \n",
    "### branch merges. "
   ]
  },
  {
   "cell_type": "code",
   "execution_count": null,
   "metadata": {},
   "outputs": [],
   "source": [
    "spark_changes=repo_spark.git.log(\"--oneline\",\"--\", spark_affected).splitlines()\n",
    "print(spark_affected+\"\\n\")\n",
    "count=0\n",
    "for line in spark_changes:\n",
    "    print(line)\n",
    "    count+=1\n",
    "print(str(count)+ \" times changed\"+\"\\n\")\n",
    "\n",
    "spark_changes2=repo_spark.git.log(\"--oneline\",\"--\", spark_affected2).splitlines()\n",
    "print(spark_affected2+\"\\n\")\n",
    "count=0\n",
    "for line in spark_changes2:\n",
    "    print(line)\n",
    "    count+=1\n",
    "print(str(count)+ \" times changed\"+\"\\n\")\n",
    "\n",
    "spark_changes3=repo_spark.git.log(\"--oneline\",\"--\", spark_affected3).splitlines()\n",
    "print(spark_affected3+\"\\n\")\n",
    "count=0\n",
    "for line in spark_changes3:\n",
    "    print(line)\n",
    "    count+=1\n",
    "print(str(count)+ \" time changed\"+\"\\n\")"
   ]
  },
  {
   "cell_type": "code",
   "execution_count": null,
   "metadata": {},
   "outputs": [],
   "source": [
    "lucene_changes=repo_lucene.git.log(\"--oneline\",\"--\", lucene_affected).splitlines()\n",
    "count=0\n",
    "print(lucene_affected+\"\\n\")\n",
    "for line in lucene_changes:\n",
    "    count+=1\n",
    "    print(line)\n",
    "print(str(count)+ \" times changed\")\n",
    "\n",
    "lucene_changes2=repo_lucene.git.log(\"--oneline\",\"--\", lucene_affected2).splitlines()\n",
    "count=0\n",
    "print(lucene_affected2+\"\\n\")\n",
    "for line in lucene_changes2:\n",
    "    count+=1\n",
    "    print(line)\n",
    "print(str(count)+ \" times changed\")\n",
    "\n",
    "lucene_changes3=repo_lucene.git.log(\"--oneline\",\"--\", lucene_affected3).splitlines()\n",
    "count=0\n",
    "print(lucene_affected3+\"\\n\")\n",
    "for line in lucene_changes3:\n",
    "    count+=1\n",
    "    print(line)\n",
    "print(str(count)+ \" times changed\")"
   ]
  },
  {
   "cell_type": "code",
   "execution_count": null,
   "metadata": {},
   "outputs": [],
   "source": [
    "activemq_changes=repo_activemq.git.log(\"--oneline\",\"--\", activemq_affected).splitlines()\n",
    "print(activemq_affected+\"\\n\")\n",
    "count=0\n",
    "for line in activemq_changes:\n",
    "    count+=1\n",
    "    print(line)\n",
    "print(str(count)+ \" times changed\")\n",
    "\n",
    "activemq_changes2=repo_activemq.git.log(\"--oneline\",\"--\", activemq_affected2).splitlines()\n",
    "print(activemq_affected2+\"\\n\")\n",
    "count=0\n",
    "for line in activemq_changes2:\n",
    "    count+=1\n",
    "    print(line)\n",
    "print(str(count)+ \" times changed\")\n",
    "\n",
    "activemq_changes3=repo_activemq.git.log(\"--oneline\",\"--\", activemq_affected2).splitlines()\n",
    "print(activemq_affected3+\"\\n\")\n",
    "count=0\n",
    "for line in activemq_changes3:\n",
    "    count+=1\n",
    "    print(line)\n",
    "print(str(count)+ \" times changed\")"
   ]
  },
  {
   "cell_type": "markdown",
   "metadata": {},
   "source": [
    "### Number of days between fixing commit and previous commit."
   ]
  },
  {
   "cell_type": "code",
   "execution_count": null,
   "metadata": {
    "scrolled": true
   },
   "outputs": [],
   "source": [
    "print(\"First spark file\")\n",
    "spark_changes=repo_spark.git.log(\"-n 2\",\"--\", spark_affected).splitlines()\n",
    "for line in spark_changes:\n",
    "    print(line)\n",
    "print(\"Second spark file\")\n",
    "spark_changes2=repo_spark.git.log(\"-n 2\",\"--\", spark_affected2).splitlines()\n",
    "for line in spark_changes2:\n",
    "    print(line)\n",
    "print(\"Third spark file\")\n",
    "spark_changes3=repo_spark.git.log(\"-n 2\",\"--\", spark_affected3).splitlines()\n",
    "for line in spark_changes3:\n",
    "    print(line)"
   ]
  },
  {
   "cell_type": "code",
   "execution_count": null,
   "metadata": {},
   "outputs": [],
   "source": [
    "lucene_changes=repo_lucene.git.log(\"-n 2\",\"--\", lucene_affected).splitlines()\n",
    "for line in lucene_changes:\n",
    "    print(line)\n",
    "    \n",
    "lucene_changes=repo_lucene.git.log(\"-n 2\",\"--\", lucene_affected2).splitlines()\n",
    "for line in lucene_changes2:\n",
    "    print(line)\n",
    "\n",
    "lucene_changes=repo_lucene.git.log(\"-n 2\",\"--\", lucene_affected3).splitlines()\n",
    "for line in lucene_changes3:\n",
    "    print(line)"
   ]
  },
  {
   "cell_type": "code",
   "execution_count": null,
   "metadata": {},
   "outputs": [],
   "source": [
    "activemq_changes=repo_activemq.git.log(\"-n 2\",\"--\", activemq_affected).splitlines()\n",
    "for line in activemq_changes:\n",
    "    print(line)\n",
    "    \n",
    "activemq_changes2=repo_activemq.git.log(\"-n 2\",\"--\", activemq_affected2).splitlines()\n",
    "for line in activemq_changes2:\n",
    "    print(line)\n",
    "\n",
    "activemq_changes3=repo_activemq.git.log(\"-n 2\",\"--\", activemq_affected3).splitlines()\n",
    "for line in activemq_changes3:\n",
    "    print(line)"
   ]
  },
  {
   "cell_type": "code",
   "execution_count": null,
   "metadata": {},
   "outputs": [],
   "source": [
    "spark_diff1=repo_spark.git.log(\"--follow\", \"-n 2\",\"--format=%ad\",spark_fixing,spark_affected)\n",
    "print(spark_diff1+\"\\n\")\n",
    "spark_diff2=repo_spark.git.log(\"--follow\", \"-n 2\",\"--format=%ad\",spark_fixing,spark_affected2)\n",
    "print(spark_diff2+\"\\n\")\n",
    "spark_diff3=repo_spark.git.log(\"--follow\", \"-n 2\",\"--format=%ad\",spark_fixing,spark_affected3)\n",
    "print(spark_diff3+\"\\n\")"
   ]
  },
  {
   "cell_type": "code",
   "execution_count": null,
   "metadata": {},
   "outputs": [],
   "source": [
    "lucene_diff1=repo_lucene.git.log(\"--follow\",\"-n 2\", \"--format=%ad\", lucene_fixing,lucene_affected)\n",
    "print(lucene_diff1+\"\\n\")\n",
    "\n",
    "lucene_diff2=repo_lucene.git.log(\"--follow\",\"-n 2\", \"--format=%ad\", lucene_fixing,lucene_affected2)\n",
    "print(lucene_diff2+\"\\n\")\n",
    "\n",
    "lucene_diff3=repo_lucene.git.log(\"--follow\",\"-n 2\", \"--format=%ad\", lucene_fixing,lucene_affected3)\n",
    "print(lucene_diff3+\"\\n\")"
   ]
  },
  {
   "cell_type": "code",
   "execution_count": null,
   "metadata": {
    "scrolled": true
   },
   "outputs": [],
   "source": [
    "activemq_diff1=repo_activemq.git.log(\"--follow\",\"-n 2\", \"--format=%ad\", activemq_fixing,activemq_affected)\n",
    "print(activemq_diff1+\"\\n\")\n",
    "\n",
    "activemq_diff2=repo_activemq.git.log(\"--follow\",\"-n 2\", \"--format=%ad\", activemq_fixing,activemq_affected2)\n",
    "print(activemq_diff2+\"\\n\")\n",
    "\n",
    "activemq_diff3=repo_activemq.git.log(\"--follow\",\"-n 2\", \"--format=%ad\", activemq_fixing,activemq_affected3)\n",
    "print(activemq_diff3+\"\\n\")\n"
   ]
  },
  {
   "cell_type": "markdown",
   "metadata": {},
   "source": [
    "### Get the developers for that specific file"
   ]
  },
  {
   "cell_type": "code",
   "execution_count": null,
   "metadata": {
    "scrolled": true
   },
   "outputs": [],
   "source": [
    "print(spark_affected+\" Authors\")\n",
    "spark_authors = repo_spark.git.shortlog (\"-sne\",spark_fixing,spark_affected).splitlines()\n",
    "author_commits = []\n",
    "\n",
    "for authors in spark_authors:\n",
    "    print(authors+\"\\n\")\n",
    "    \n",
    "print(spark_affected2+\" Authors\")\n",
    "spark_authors2 = repo_spark.git.shortlog (\"-sne\",spark_fixing,spark_affected2).splitlines()\n",
    "author_commits = []\n",
    "for authors in spark_authors2:\n",
    "    print(authors+\"\\n\")\n",
    "print(spark_affected3+\" Authors\")\n",
    "spark_authors3 = repo_spark.git.shortlog (\"-sne\",spark_fixing,spark_affected3).splitlines()\n",
    "author_commits = []\n",
    "for authors in spark_authors3:\n",
    "    print(authors+\"\\n\")"
   ]
  },
  {
   "cell_type": "code",
   "execution_count": null,
   "metadata": {},
   "outputs": [],
   "source": [
    "lucene_authors = repo_lucene.git.shortlog (\"-sne\",lucene_fixing,lucene_affected).splitlines()\n",
    "author_commits = []\n",
    "count=0\n",
    "for authors in lucene_authors:\n",
    "    print(authors)\n",
    "    count+=1\n",
    "print(\"\")\n",
    "\n",
    "lucene_authors2 = repo_lucene.git.shortlog (\"-sne\",lucene_fixing,lucene_affected2).splitlines()\n",
    "author_commits = []\n",
    "count=0\n",
    "for authors in lucene_authors2:\n",
    "    print(authors)\n",
    "    count+=1\n",
    "    \n",
    "print(\"\")\n",
    "lucene_authors3 = repo_lucene.git.shortlog (\"-sne\",lucene_fixing,lucene_affected3).splitlines()\n",
    "author_commits = []\n",
    "count=0\n",
    "for authors in lucene_authors3:\n",
    "    print(authors)\n",
    "    count+=1\n"
   ]
  },
  {
   "cell_type": "code",
   "execution_count": null,
   "metadata": {},
   "outputs": [],
   "source": [
    "activemq_authors = repo_activemq.git.shortlog (\"-sne\",activemq_fixing,activemq_affected).splitlines()\n",
    "author_commits = []\n",
    "for authors in activemq_authors:\n",
    "    print(authors)\n",
    "print(\"\")\n",
    "activemq_authors2 = repo_activemq.git.shortlog (\"-sne\",activemq_fixing,activemq_affected2).splitlines()\n",
    "author_commits = []\n",
    "for authors in activemq_authors2:\n",
    "    print(authors)\n",
    "print(\"\")\n",
    "activemq_authors3 = repo_activemq.git.shortlog (\"-sne\",activemq_fixing,activemq_affected3).splitlines()\n",
    "author_commits = []\n",
    "for authors in activemq_authors3:\n",
    "    print(authors)"
   ]
  },
  {
   "cell_type": "code",
   "execution_count": null,
   "metadata": {},
   "outputs": [],
   "source": [
    "date1=\"\"\n",
    "date2=\"\"\n",
    "\n",
    "spark_data=repo_spark.git.log(\"--follow\", \"-n 2\", \"--format=%ad\", spark_fixing, spark_affected).splitlines()\n",
    "\n",
    "for line in spark_data:\n",
    "    print(line)\n",
    "    date2=date1\n",
    "    date1=datetime.strptime(line,\"%c %z\")\n",
    "    if(date2!=\"\"):\n",
    "        print(int((date2-date1).total_seconds()/86400))\n",
    "\n",
    "date1=\"\"\n",
    "date2=\"\"\n",
    "spark_data2=repo_spark.git.log(\"--follow\", \"-n 2\", \"--format=%ad\", spark_fixing, spark_affected2).splitlines()\n",
    "\n",
    "for line in spark_data2:\n",
    "    print(line)\n",
    "    date2=date1\n",
    "    date1=datetime.strptime(line,\"%c %z\")\n",
    "    if(date2!=\"\"):\n",
    "        print(int((date2-date1).total_seconds()/86400))\n",
    "\n",
    "date1=\"\"\n",
    "date2=\"\"\n",
    "spark_data3=repo_spark.git.log(\"--follow\", \"-n 2\", \"--format=%ad\", spark_fixing, spark_affected3).splitlines()\n",
    "\n",
    "for line in spark_data3:\n",
    "    print(line)\n",
    "    date2=date1\n",
    "    date1=datetime.strptime(line,\"%c %z\")\n",
    "    if(date2!=\"\"):\n",
    "        print(int((date2-date1).total_seconds()/86400))\n",
    "##Nb there is no output for the third file because it was created during this fix. \n"
   ]
  },
  {
   "cell_type": "code",
   "execution_count": null,
   "metadata": {},
   "outputs": [],
   "source": [
    "date1=\"\"\n",
    "date2=\"\"\n",
    "count=0\n",
    "\n",
    "lucene_data=repo_lucene.git.log(\"--follow\", \"-n 2\", \"--format=%ad\", lucene_fixing, lucene_affected).splitlines()\n",
    "\n",
    "for line in lucene_data:\n",
    "    print(line)\n",
    "    date2=date1\n",
    "    date1=datetime.strptime(line,\"%c %z\")\n",
    "    if(date2!=\"\"):\n",
    "        print(int((date2-date1).total_seconds()/86400))\n",
    "\n",
    "\n",
    "date1=\"\"\n",
    "date2=\"\"\n",
    "count=0\n",
    "\n",
    "lucene_data2=repo_lucene.git.log(\"--follow\", \"-n 2\", \"--format=%ad\", lucene_fixing, lucene_affected2).splitlines()\n",
    "\n",
    "for line in lucene_data2:\n",
    "    print(line)\n",
    "    date2=date1\n",
    "    date1=datetime.strptime(line,\"%c %z\")\n",
    "    if(date2!=\"\"):\n",
    "        print(int((date2-date1).total_seconds()/86400))\n",
    "\n",
    "\n",
    "date1=\"\"\n",
    "date2=\"\"\n",
    "count=0\n",
    "\n",
    "lucene_data3=repo_lucene.git.log(\"--follow\", \"-n 2\", \"--format=%ad\", lucene_fixing, lucene_affected3).splitlines()\n",
    "\n",
    "for line in lucene_data3:\n",
    "    print(line)\n",
    "    date2=date1\n",
    "    date1=datetime.strptime(line,\"%c %z\")\n",
    "    if(date2!=\"\"):\n",
    "        print(int((date2-date1).total_seconds()/86400))\n",
    "\n",
    "\n"
   ]
  },
  {
   "cell_type": "code",
   "execution_count": null,
   "metadata": {},
   "outputs": [],
   "source": [
    "date1=\"\"\n",
    "date2=\"\"\n",
    "count=0\n",
    "\n",
    "activemq_data=repo_activemq.git.log(\"--follow\", \"-n 2\", \"--format=%ad\", activemq_fixing, activemq_affected).splitlines()\n",
    "\n",
    "for line in activemq_data:\n",
    "    print(line)\n",
    "    date2=date1\n",
    "    date1=datetime.strptime(line,\"%c %z\")\n",
    "    if(date2!=\"\"):\n",
    "        print(int((date2-date1).total_seconds()/86400))\n",
    "\n",
    "date1=\"\"\n",
    "date2=\"\"\n",
    "count=0\n",
    "\n",
    "activemq_data2=repo_activemq.git.log(\"--follow\", \"-n 2\", \"--format=%ad\", activemq_fixing, activemq_affected2).splitlines()\n",
    "\n",
    "for line in activemq_data2:\n",
    "    print(line)\n",
    "    date2=date1\n",
    "    date1=datetime.strptime(line,\"%c %z\")\n",
    "    if(date2!=\"\"):\n",
    "        print(int((date2-date1).total_seconds()/86400))\n",
    "\n",
    "date1=\"\"\n",
    "date2=\"\"\n",
    "count=0\n",
    "\n",
    "activemq_data3=repo_activemq.git.log(\"--follow\", \"-n 2\", \"--format=%ad\", activemq_fixing, activemq_affected3).splitlines()\n",
    "\n",
    "for line in activemq_data3:\n",
    "    print(line)\n",
    "    date2=date1\n",
    "    date1=datetime.strptime(line,\"%c %z\")\n",
    "    if(date2!=\"\"):\n",
    "        print(int((date2-date1).total_seconds()/86400))\n"
   ]
  },
  {
   "cell_type": "code",
   "execution_count": null,
   "metadata": {},
   "outputs": [],
   "source": []
  },
  {
   "cell_type": "code",
   "execution_count": null,
   "metadata": {},
   "outputs": [],
   "source": []
  }
 ],
 "metadata": {
  "kernelspec": {
   "display_name": "Python 3",
   "language": "python",
   "name": "python3"
  },
  "language_info": {
   "codemirror_mode": {
    "name": "ipython",
    "version": 3
   },
   "file_extension": ".py",
   "mimetype": "text/x-python",
   "name": "python",
   "nbconvert_exporter": "python",
   "pygments_lexer": "ipython3",
   "version": "3.7.3"
  }
 },
 "nbformat": 4,
 "nbformat_minor": 2
}
